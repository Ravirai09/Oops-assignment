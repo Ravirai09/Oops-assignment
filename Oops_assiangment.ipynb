{
  "nbformat": 4,
  "nbformat_minor": 0,
  "metadata": {
    "colab": {
      "provenance": []
    },
    "kernelspec": {
      "name": "python3",
      "display_name": "Python 3"
    },
    "language_info": {
      "name": "python"
    }
  },
  "cells": [
    {
      "cell_type": "markdown",
      "source": [
        "**Oops assignment**"
      ],
      "metadata": {
        "id": "N__dlZtGGGu9"
      }
    },
    {
      "cell_type": "code",
      "source": [
        "# 1. What is Object-Oriented Programming (OOP)?\n",
        "Ans.:-\n",
        "\n",
        "OOP (Object-Oriented Programming) ek programming paradigm hai jisme code ko chhote chhote objects mein divide kiya jaata hai.\n",
        "Har object ke paas apne data (attributes) aur actions (methods) hote hain.\n",
        "OOP ke 4 main pillars hote hain:\n",
        "\n",
        "Inheritance\n",
        "Polymorphism\n",
        "Encapsulation\n",
        "Abstraction"
      ],
      "metadata": {
        "id": "HIuX55__GXHI"
      },
      "execution_count": null,
      "outputs": []
    },
    {
      "cell_type": "code",
      "source": [
        "# 2. What is a class in OOP?\n",
        "#Ans.:-\n",
        "#Class ek blueprint ya template hoti hai jiske basis par objects banaye jaate hain. Class ke andar attributes (variables) aur methods (functions) hote hain.\n",
        "class Car:\n",
        "    def drive(self):\n",
        "        print(\"Car is driving\")"
      ],
      "metadata": {
        "id": "NUt6xAhYGgNP"
      },
      "execution_count": 1,
      "outputs": []
    },
    {
      "cell_type": "code",
      "source": [
        "#3. What is an object in OOP?\n",
        "#Ans.:-\n",
        "#Object class ka real-world instance hota hai. Jab class ko use karke koi value create karte hain, wo object hota hai.\n",
        "\n",
        "car1 = Car()  # car1 is object of class Car\n",
        "car1.drive()\n"
      ],
      "metadata": {
        "colab": {
          "base_uri": "https://localhost:8080/"
        },
        "id": "Go4gSQsIGnZw",
        "outputId": "ce953762-79d8-49b8-e702-826a8ac2eea6"
      },
      "execution_count": 2,
      "outputs": [
        {
          "output_type": "stream",
          "name": "stdout",
          "text": [
            "Car is driving\n"
          ]
        }
      ]
    },
    {
      "cell_type": "code",
      "source": [
        "# 4. What is the difference between abstraction and encapsulation?\n",
        "#Ans.:-\n",
        "\n",
        "#Abstraction: Sirf important details show karna, baaki complexity hide karna.\n",
        "#Encapsulation: Data ko wrap karna (class ke andar variables ko hide karna using __) for security.\n",
        "# Abstraction Example\n",
        "from abc import ABC, abstractmethod\n",
        "\n",
        "class Shape(ABC):\n",
        "    @abstractmethod\n",
        "    def area(self):\n",
        "        pass"
      ],
      "metadata": {
        "id": "NAg812yrG5MW"
      },
      "execution_count": 3,
      "outputs": []
    },
    {
      "cell_type": "code",
      "source": [
        "#5. What are dunder methods in Python?\n",
        "#Ans.:-\n",
        "#Dunder methods = Double Underscore wale special methods jaise __init__, __str__, __len__.\n",
        "#Ye Python ke special purposes ke liye hote hain.\n",
        "class Dog:\n",
        "    def __str__(self):\n",
        "        return \"I am a Dog\""
      ],
      "metadata": {
        "id": "gmaalFhxHDeT"
      },
      "execution_count": 4,
      "outputs": []
    },
    {
      "cell_type": "code",
      "source": [
        "#6. Explain the concept of inheritance in OOP.\n",
        "#Ans.:-\n",
        "#Inheritance ka matlab ek class ka doosri class ke features inherit kar lena. Isse code reuse hota hai.\n",
        "class Animal:\n",
        "    def sound(self):\n",
        "        print(\"Some sound\")\n",
        "\n",
        "class Dog(Animal):\n",
        "    pass"
      ],
      "metadata": {
        "id": "dItm4IPCHK_7"
      },
      "execution_count": 5,
      "outputs": []
    },
    {
      "cell_type": "code",
      "source": [
        "#7. What is polymorphism in OOP?\n",
        "#Ans.:-\n",
        "#Polymorphism ka matlab hai — ek method ya operator ka alag alag form mein behave karna.\n",
        "#Jaise same method run() different class mein alag kaam kare."
      ],
      "metadata": {
        "id": "xTDdIQA8HWlA"
      },
      "execution_count": null,
      "outputs": []
    },
    {
      "cell_type": "code",
      "source": [
        "#8. How is encapsulation achieved in Python?\n",
        "#Ans.:-\n",
        "#Encapsulation Python mein variables ko private (__var) banakar achieve hoti hai.\n",
        "#Getter-Setter se access milta hai."
      ],
      "metadata": {
        "id": "zIiXkmFVHfMQ"
      },
      "execution_count": null,
      "outputs": []
    },
    {
      "cell_type": "code",
      "source": [
        "#9. What is a constructor in Python?\n",
        "#Ans.:-\n",
        "#Constructor ek special method hota hai __init__ jo object banate hi call hota hai, initial values set karta hai."
      ],
      "metadata": {
        "id": "7OyL3Dd8HkB3"
      },
      "execution_count": null,
      "outputs": []
    },
    {
      "cell_type": "code",
      "source": [
        "#10. What are class and static methods in Python?\n",
        "#Ans.:-\n",
        "#Class method: @classmethod se banta hai. Class ko as argument leta hai.\n",
        "#Static method: @staticmethod se banta hai. Na class na object ko leta hai."
      ],
      "metadata": {
        "id": "nAqCRHRFHm8w"
      },
      "execution_count": null,
      "outputs": []
    },
    {
      "cell_type": "code",
      "source": [
        "#11. What is method overloading in Python?\n",
        "#Ans.:-\n",
        "#Python mein true overloading nahi hoti, lekin default parameters ya *args se simulate kiya ja sakta hai."
      ],
      "metadata": {
        "id": "hkwIFF0gH1fv"
      },
      "execution_count": null,
      "outputs": []
    },
    {
      "cell_type": "code",
      "source": [
        "#12. What is method overriding in OOP?\n",
        "#Ans.:-\n",
        "#Child class parent ki method ko same naam se re-define kare to method overriding hoti hai."
      ],
      "metadata": {
        "id": "_a5yk294H9-4"
      },
      "execution_count": null,
      "outputs": []
    },
    {
      "cell_type": "code",
      "source": [
        "#13. What is a property decorator in Python?\n",
        "#Ans.:-\n",
        "#  @property se function ko attribute ki tarah access kar sakte hain."
      ],
      "metadata": {
        "id": "05OM1oELIBg_"
      },
      "execution_count": 7,
      "outputs": []
    },
    {
      "cell_type": "code",
      "source": [
        "# 14. Why is polymorphism important in OOP?\n",
        "#Ans.:-\n",
        "#Code flexible aur reusable banata hai. Alag objects ek method ko call karke apna specific behavior dikhate hain."
      ],
      "metadata": {
        "id": "kURoKUY2IMyl"
      },
      "execution_count": null,
      "outputs": []
    },
    {
      "cell_type": "code",
      "source": [
        "#15. What is an abstract class in Python?\n",
        "#Ans.:-\n",
        "#Abstract class wo class hai jisme at least ek abstract method ho, aur uska object nahi ban sakta."
      ],
      "metadata": {
        "id": "HKu21Gz6IiGg"
      },
      "execution_count": null,
      "outputs": []
    },
    {
      "cell_type": "code",
      "source": [
        "#16. What are the advantages of OOP?\n",
        "#Ans.:-\n",
        "#Code reusability\n",
        "#Modularity\n",
        "#Scalability\n",
        "#Maintainability"
      ],
      "metadata": {
        "id": "91MNwAHRIscH"
      },
      "execution_count": null,
      "outputs": []
    },
    {
      "cell_type": "code",
      "source": [
        "#17. Difference between class variable and instance variable?\n",
        "#Ans.:-\n",
        "#Class variable: Sab objects ke liye same hota hai.\n",
        "#Instance variable: Har object ke liye alag hota hai."
      ],
      "metadata": {
        "id": "DMr4bzAII1Vn"
      },
      "execution_count": null,
      "outputs": []
    },
    {
      "cell_type": "code",
      "source": [
        "#18. What is multiple inheritance in Python?\n",
        "#Ans.:-\n",
        "#Jab ek class multiple classes se inherit karti hai, use multiple inheritance kehte hain."
      ],
      "metadata": {
        "id": "5OmGYzZsI7EY"
      },
      "execution_count": null,
      "outputs": []
    },
    {
      "cell_type": "code",
      "source": [
        "#19. Purpose of __str__() and __repr__() methods?\n",
        "#Ans.:-\n",
        "#__str__() – Human readable output.\n",
        "#__repr__() – Developer readable/debugging output."
      ],
      "metadata": {
        "id": "39SL57o0I_WJ"
      },
      "execution_count": null,
      "outputs": []
    },
    {
      "cell_type": "code",
      "source": [
        "#20. Significance of super() function?\n",
        "#Ans.:-\n",
        "#super() se parent class ki method ko call kar sakte hain bina class name likhe."
      ],
      "metadata": {
        "id": "OkVILUQcJGjo"
      },
      "execution_count": 11,
      "outputs": []
    },
    {
      "cell_type": "code",
      "source": [
        "#21. Significance of __del__ method?\n",
        "#Ans.:-\n",
        "#Ye destructor hai. Jab object destroy hota hai tab ye method call hota hai."
      ],
      "metadata": {
        "id": "Bp1Bk00HJMQP"
      },
      "execution_count": 10,
      "outputs": []
    },
    {
      "cell_type": "code",
      "source": [
        "#22. Difference between @staticmethod and @classmethod?\n",
        "#Ans.:-\n",
        "# @staticmethod: Independent function hota hai class ke andar.\n",
        "# @classmethod: Class ke upar kaam karta hai, cls use karta hai."
      ],
      "metadata": {
        "id": "DDM6tV1yJP1Z"
      },
      "execution_count": 8,
      "outputs": []
    },
    {
      "cell_type": "code",
      "source": [
        "# 23. How does polymorphism work with inheritance?\n",
        "#Ans.:-\n",
        "# Child class parent ki method ko override karke apna behavior define karti hai — yahi polymorphism hai."
      ],
      "metadata": {
        "id": "9lXiwgcsJVtl"
      },
      "execution_count": 9,
      "outputs": []
    },
    {
      "cell_type": "code",
      "source": [
        "# 24. What is method chaining in Python OOP?\n",
        "#Ans.:-\n",
        "#Ek method ke baad doosra method call karna using return self.\n",
        "class Person:\n",
        "    def __init__(self):\n",
        "        self.name = \"\"\n",
        "        self.age = 0\n",
        "\n",
        "    def setName(self, name):\n",
        "        self.name = name\n",
        "        return self  # 👈 ye zaroori hai\n",
        "\n",
        "    def setAge(self, age):\n",
        "        self.age = age\n",
        "        return self  # 👈 ye bhi\n",
        "\n",
        "    def show(self):\n",
        "        print(f\"Name: {self.name}, Age: {self.age}\")\n",
        "\n",
        "# Object create\n",
        "obj = Person()\n",
        "obj.setName(\"Ravi\").setAge(25).show()\n",
        "\n"
      ],
      "metadata": {
        "colab": {
          "base_uri": "https://localhost:8080/"
        },
        "id": "PV8zOeA5JflC",
        "outputId": "d149d1cc-0679-4a29-cb9d-54429d2dd21f"
      },
      "execution_count": 24,
      "outputs": [
        {
          "output_type": "stream",
          "name": "stdout",
          "text": [
            "Name: Ravi, Age: 25\n"
          ]
        }
      ]
    },
    {
      "cell_type": "code",
      "source": [
        "# 25. What is the purpose of __call__ method in Python?\n",
        "#Ans.:-\n",
        "#Ye object ko function ki tarah callable banata hai.\n",
        "\n",
        "class Example:\n",
        "    def __call__(self):\n",
        "        print(\"Called!\")\n",
        "\n",
        "obj = Example()\n",
        "obj()\n"
      ],
      "metadata": {
        "colab": {
          "base_uri": "https://localhost:8080/"
        },
        "id": "jbbjGEoFJtwi",
        "outputId": "c982d7e1-1ea0-4f77-d9f1-e2edb4e1821a"
      },
      "execution_count": 2,
      "outputs": [
        {
          "output_type": "stream",
          "name": "stdout",
          "text": [
            "Called!\n"
          ]
        }
      ]
    },
    {
      "cell_type": "code",
      "source": [
        "# 1. Create a parent class Animal with a method speak() that prints a generic message.\n",
        "#Create a child class Dog that overrides the speak() method to print “Bark”.\n",
        "#Ans.:-\n",
        "class Animal:\n",
        "    def speak(self):\n",
        "        print(\"Generic animal sound\")\n",
        "\n",
        "class Dog(Animal):\n",
        "    def speak(self):\n",
        "        print(\"Bark\")\n",
        "\n",
        "# Object creation\n",
        "a1 = Animal()\n",
        "d1 = Dog()\n",
        "\n",
        "a1.speak()\n",
        "d1.speak()\n"
      ],
      "metadata": {
        "colab": {
          "base_uri": "https://localhost:8080/"
        },
        "id": "2RqDtOk3J5mr",
        "outputId": "c14211fa-9104-4e4a-8428-3f792ee2cc9f"
      },
      "execution_count": 4,
      "outputs": [
        {
          "output_type": "stream",
          "name": "stdout",
          "text": [
            "Generic animal sound\n",
            "Bark\n"
          ]
        }
      ]
    },
    {
      "cell_type": "code",
      "source": [
        "#2. Write a program to create an abstract class Shape with a method area().\n",
        "#Derive classes Circle and Rectangle from it and implement the area() method in both.\n",
        "#Ans.:-\n",
        "from abc import ABC, abstractmethod\n",
        "\n",
        "class Shape(ABC):\n",
        "    @abstractmethod\n",
        "    def area(self):\n",
        "        pass\n",
        "\n",
        "class Circle(Shape):\n",
        "    def __init__(self, radius):\n",
        "        self.radius = radius\n",
        "\n",
        "    def area(self):\n",
        "        return 3.14 * self.radius ** 2\n",
        "\n",
        "class Rectangle(Shape):\n",
        "    def __init__(self, l, b):\n",
        "        self.l = l\n",
        "        self.b = b\n",
        "\n",
        "    def area(self):\n",
        "        return self.l * self.b\n",
        "\n",
        "c = Circle(5)\n",
        "r = Rectangle(4, 6)\n",
        "\n",
        "print(\"Circle area:\", c.area())\n",
        "print(\"Rectangle area:\", r.area())\n"
      ],
      "metadata": {
        "colab": {
          "base_uri": "https://localhost:8080/"
        },
        "id": "0fm2WnEEKu6w",
        "outputId": "8838fa34-1d2b-4bfa-9e60-2b73679e69db"
      },
      "execution_count": 5,
      "outputs": [
        {
          "output_type": "stream",
          "name": "stdout",
          "text": [
            "Circle area: 78.5\n",
            "Rectangle area: 24\n"
          ]
        }
      ]
    },
    {
      "cell_type": "code",
      "source": [
        "# 3. Implement a multi-level inheritance scenario where a class Vehicle has an attribute type.\n",
        "#Derive a class Car and further derive a class ElectricCar that adds a battery attribute.\n",
        "#Ans.:-\n",
        "class Vehicle:\n",
        "    def __init__(self, type):\n",
        "        self.type = type\n",
        "\n",
        "class Car(Vehicle):\n",
        "    def __init__(self, type, brand):\n",
        "        super().__init__(type)\n",
        "        self.brand = brand\n",
        "\n",
        "class ElectricCar(Car):\n",
        "    def __init__(self, type, brand, battery):\n",
        "        super().__init__(type, brand)\n",
        "        self.battery = battery\n",
        "\n",
        "e = ElectricCar(\"4-wheeler\", \"Tesla\", \"5000mAh\")\n",
        "print(e.type, e.brand, e.battery)"
      ],
      "metadata": {
        "colab": {
          "base_uri": "https://localhost:8080/"
        },
        "id": "JIJTp7h5LAdr",
        "outputId": "0350fcf1-c8b1-4cd5-fd72-5a23dcd85982"
      },
      "execution_count": 6,
      "outputs": [
        {
          "output_type": "stream",
          "name": "stdout",
          "text": [
            "4-wheeler Tesla 5000mAh\n"
          ]
        }
      ]
    },
    {
      "cell_type": "code",
      "source": [
        "# 4. Demonstrate polymorphism by creating a base class Bird with a method fly().\n",
        "# Create two derived classes Sparrow and Penguin that override the fly() method.\n",
        "#Ans.:-\n",
        "class Bird:\n",
        "    def fly(self):\n",
        "        print(\"Some bird is flying\")\n",
        "\n",
        "class Sparrow(Bird):\n",
        "    def fly(self):\n",
        "        print(\"Sparrow flies high\")\n",
        "\n",
        "class Penguin(Bird):\n",
        "    def fly(self):\n",
        "        print(\"Penguin can't fly\")\n",
        "\n",
        "b1 = Sparrow()\n",
        "b2 = Penguin()\n",
        "\n",
        "b1.fly()\n",
        "b2.fly()"
      ],
      "metadata": {
        "colab": {
          "base_uri": "https://localhost:8080/"
        },
        "id": "kdeiVy2bLHtD",
        "outputId": "a892a8d0-6db2-4a09-b722-38ff0e5f9e9b"
      },
      "execution_count": 7,
      "outputs": [
        {
          "output_type": "stream",
          "name": "stdout",
          "text": [
            "Sparrow flies high\n",
            "Penguin can't fly\n"
          ]
        }
      ]
    },
    {
      "cell_type": "code",
      "source": [
        "# 5. Write a program to demonstrate encapsulation by creating a class BankAccount with private attributes balance and methods to deposit, withdraw, and check balance.\n",
        "#Ans.:-\n",
        "class BankAccount:\n",
        "    def __init__(self, balance):\n",
        "        self.__balance = balance  # private attribute\n",
        "\n",
        "    def deposit(self, amount):\n",
        "        self.__balance += amount\n",
        "\n",
        "    def withdraw(self, amount):\n",
        "        if self.__balance >= amount:\n",
        "            self.__balance -= amount\n",
        "        else:\n",
        "            print(\"Insufficient balance\")\n",
        "\n",
        "    def check_balance(self):\n",
        "        return self.__balance\n",
        "\n",
        "acc = BankAccount(1000)\n",
        "acc.deposit(500)\n",
        "acc.withdraw(300)\n",
        "print(\"Current Balance:\", acc.check_balance())"
      ],
      "metadata": {
        "colab": {
          "base_uri": "https://localhost:8080/"
        },
        "id": "Z1lilO0dLQRL",
        "outputId": "3e4e3ac1-5660-4f49-c0a4-83107c08a1cc"
      },
      "execution_count": 8,
      "outputs": [
        {
          "output_type": "stream",
          "name": "stdout",
          "text": [
            "Current Balance: 1200\n"
          ]
        }
      ]
    },
    {
      "cell_type": "code",
      "source": [
        "# 6. Demonstrate runtime polymorphism using a method play() in a base class Instrument. Derive classes Guitar and Piano that implement their own version of play().\n",
        "#Ans.:-\n",
        "class Instrument:\n",
        "    def play(self):\n",
        "        print(\"Playing instrument\")\n",
        "\n",
        "class Guitar(Instrument):\n",
        "    def play(self):\n",
        "        print(\"Strumming Guitar\")\n",
        "\n",
        "class Piano(Instrument):\n",
        "    def play(self):\n",
        "        print(\"Playing Piano\")\n",
        "\n",
        "# Runtime polymorphism\n",
        "for instrument in (Guitar(), Piano()):\n",
        "    instrument.play()\n"
      ],
      "metadata": {
        "colab": {
          "base_uri": "https://localhost:8080/"
        },
        "id": "nBgaHwVWLX_b",
        "outputId": "2eae211a-7bc8-4d04-f942-42fab0959652"
      },
      "execution_count": 9,
      "outputs": [
        {
          "output_type": "stream",
          "name": "stdout",
          "text": [
            "Strumming Guitar\n",
            "Playing Piano\n"
          ]
        }
      ]
    },
    {
      "cell_type": "code",
      "source": [
        "# 7. Create a class MathOperations with a class method add_numbers() to add two numbers and a static method subtract_numbers() to subtract two numbers.\n",
        "#Ans.:-\n",
        "class MathOperations:\n",
        "    @classmethod\n",
        "    def add_numbers(cls, a, b):\n",
        "        return a + b\n",
        "\n",
        "    @staticmethod\n",
        "    def subtract_numbers(a, b):\n",
        "        return a - b\n",
        "\n",
        "print(\"Addition:\", MathOperations.add_numbers(10, 5))\n",
        "print(\"Subtraction:\", MathOperations.subtract_numbers(10, 5))\n"
      ],
      "metadata": {
        "colab": {
          "base_uri": "https://localhost:8080/"
        },
        "id": "OaKqpVVuLhUj",
        "outputId": "07903571-fa20-4ab9-adf6-258aace96374"
      },
      "execution_count": 10,
      "outputs": [
        {
          "output_type": "stream",
          "name": "stdout",
          "text": [
            "Addition: 15\n",
            "Subtraction: 5\n"
          ]
        }
      ]
    },
    {
      "cell_type": "code",
      "source": [
        "# 8. Implement a class Person with a class method to count the total number of persons created.\n",
        "#Ans.:-\n",
        "class Person:\n",
        "    count = 0  # class variable\n",
        "\n",
        "    def __init__(self):\n",
        "        Person.count += 1\n",
        "\n",
        "    @classmethod\n",
        "    def total_persons(cls):\n",
        "        print(\"Total Persons:\", cls.count)\n",
        "\n",
        "p1 = Person()\n",
        "p2 = Person()\n",
        "Person.total_persons()"
      ],
      "metadata": {
        "colab": {
          "base_uri": "https://localhost:8080/"
        },
        "id": "6qWWC65_LmI8",
        "outputId": "2ae9c6be-79c9-49bb-fe73-ff7e852f19fa"
      },
      "execution_count": 11,
      "outputs": [
        {
          "output_type": "stream",
          "name": "stdout",
          "text": [
            "Total Persons: 2\n"
          ]
        }
      ]
    },
    {
      "cell_type": "code",
      "source": [
        "# 9. Write a class Fraction with attributes numerator and denominator. Override the str method to display the fraction as “numerator/denominator”.\n",
        "#Ans.:-\n",
        "class Fraction:\n",
        "    def __init__(self, num, den):\n",
        "        self.num = num\n",
        "        self.den = den\n",
        "\n",
        "    def __str__(self):\n",
        "        return f\"{self.num}/{self.den}\"\n",
        "\n",
        "f = Fraction(3, 4)\n",
        "print(f)"
      ],
      "metadata": {
        "colab": {
          "base_uri": "https://localhost:8080/"
        },
        "id": "m-qTSJm5Lq_r",
        "outputId": "561f6559-ee52-48c9-d549-feff0306fae1"
      },
      "execution_count": 12,
      "outputs": [
        {
          "output_type": "stream",
          "name": "stdout",
          "text": [
            "3/4\n"
          ]
        }
      ]
    },
    {
      "cell_type": "code",
      "source": [
        "# 10. Demonstrate operator overloading by creating a class Vector and overloading the add method to add two vectors.\n",
        "#Ans.:-\n",
        "class Vector:\n",
        "    def __init__(self, x, y):\n",
        "        self.x = x\n",
        "        self.y = y\n",
        "\n",
        "    def __add__(self, other):\n",
        "        return Vector(self.x + other.x, self.y + other.y)\n",
        "\n",
        "    def __str__(self):\n",
        "        return f\"({self.x}, {self.y})\"\n",
        "\n",
        "v1 = Vector(2, 3)\n",
        "v2 = Vector(5, 7)\n",
        "v3 = v1 + v2\n",
        "print(\"Sum of Vectors:\", v3)"
      ],
      "metadata": {
        "colab": {
          "base_uri": "https://localhost:8080/"
        },
        "id": "b_dVYpQzLxgT",
        "outputId": "e973db04-e779-4698-92dc-184f9246ff6a"
      },
      "execution_count": 13,
      "outputs": [
        {
          "output_type": "stream",
          "name": "stdout",
          "text": [
            "Sum of Vectors: (7, 10)\n"
          ]
        }
      ]
    },
    {
      "cell_type": "code",
      "source": [
        "# 11. Create a class Person with attributes name and age. Add a method greet() that prints “Hello, my name is {name} and I am {age} years old.”\n",
        "#Ans.:-\n",
        "class Person:\n",
        "    def __init__(self, name, age):\n",
        "        self.name = name\n",
        "        self.age = age\n",
        "\n",
        "    def greet(self):\n",
        "        print(f\"Hello, my name is {self.name} and I am {self.age} years old.\")\n",
        "\n",
        "p = Person(\"Ravi\", 22)\n",
        "p.greet()"
      ],
      "metadata": {
        "colab": {
          "base_uri": "https://localhost:8080/"
        },
        "id": "5D-1Ib0FL19b",
        "outputId": "6c00322d-3fd9-48d3-aaa1-f08180850f20"
      },
      "execution_count": 14,
      "outputs": [
        {
          "output_type": "stream",
          "name": "stdout",
          "text": [
            "Hello, my name is Ravi and I am 22 years old.\n"
          ]
        }
      ]
    },
    {
      "cell_type": "code",
      "source": [
        "#12. Implement a class Student with attributes name and grades. Create a method average_grade() to compute the average of the grades.\n",
        "#Ans.:-\n",
        "class Student:\n",
        "    def __init__(self, name, grades):\n",
        "        self.name = name\n",
        "        self.grades = grades\n",
        "\n",
        "    def average_grade(self):\n",
        "        return sum(self.grades) / len(self.grades)\n",
        "\n",
        "s = Student(\"Ravi\", [80, 90, 85])\n",
        "print(\"Average Grade:\", s.average_grade())"
      ],
      "metadata": {
        "colab": {
          "base_uri": "https://localhost:8080/"
        },
        "id": "iaHXvxPyL7Tj",
        "outputId": "acaeb84a-ac1a-42df-c4cc-e83b0f5baa97"
      },
      "execution_count": 15,
      "outputs": [
        {
          "output_type": "stream",
          "name": "stdout",
          "text": [
            "Average Grade: 85.0\n"
          ]
        }
      ]
    },
    {
      "cell_type": "code",
      "source": [
        "# 13. Create a class Rectangle with method set_dimensions() to set the dimensions and area() to calculate the area.\n",
        "#Ans.:-\n",
        "class Rectangle:\n",
        "    def set_dimensions(self, length, breadth):\n",
        "        self.length = length\n",
        "        self.breadth = breadth\n",
        "\n",
        "    def area(self):\n",
        "        return self.length * self.breadth\n",
        "\n",
        "r = Rectangle()\n",
        "r.set_dimensions(10, 5)\n",
        "print(\"Area:\", r.area())\n"
      ],
      "metadata": {
        "colab": {
          "base_uri": "https://localhost:8080/"
        },
        "id": "q-Y7y29wMBKb",
        "outputId": "ea5e2917-d0e0-4204-ae60-7cdedb9e5b83"
      },
      "execution_count": 16,
      "outputs": [
        {
          "output_type": "stream",
          "name": "stdout",
          "text": [
            "Area: 50\n"
          ]
        }
      ]
    },
    {
      "cell_type": "code",
      "source": [
        "# 14. Create a class Employee with a method calculate_salary() that computes the salary based on hours worked and hourly rate. Create a derived class Manager that adds a bonus to the salary.\n",
        "#Ans.:-\n",
        "class Employee:\n",
        "    def __init__(self, hours, rate):\n",
        "        self.hours = hours\n",
        "        self.rate = rate\n",
        "\n",
        "    def calculate_salary(self):\n",
        "        return self.hours * self.rate\n",
        "\n",
        "class Manager(Employee):\n",
        "    def __init__(self, hours, rate, bonus):\n",
        "        super().__init__(hours, rate)\n",
        "        self.bonus = bonus\n",
        "\n",
        "    def calculate_salary(self):\n",
        "        return super().calculate_salary() + self.bonus\n",
        "\n",
        "e1 = Employee(40, 200)\n",
        "m1 = Manager(40, 200, 5000)\n",
        "\n",
        "print(\"Employee Salary:\", e1.calculate_salary())\n",
        "print(\"Manager Salary:\", m1.calculate_salary())\n"
      ],
      "metadata": {
        "colab": {
          "base_uri": "https://localhost:8080/"
        },
        "id": "F9Nwm7u-MH_G",
        "outputId": "839700d1-fc5f-4d46-bc7b-6541e3deb5f1"
      },
      "execution_count": 17,
      "outputs": [
        {
          "output_type": "stream",
          "name": "stdout",
          "text": [
            "Employee Salary: 8000\n",
            "Manager Salary: 13000\n"
          ]
        }
      ]
    },
    {
      "cell_type": "code",
      "source": [
        "# 15. Create a class Product with attributes name, price, and quantity. Implement a method total_price() that calculates the total price of the product.\"\n",
        "#Ans.:-\n",
        "class Product:\n",
        "    def __init__(self, name, price, quantity):\n",
        "        self.name = name\n",
        "        self.price = price\n",
        "        self.quantity = quantity\n",
        "\n",
        "    def total_price(self):\n",
        "        return self.price * self.quantity\n",
        "\n",
        "p1 = Product(\"Pen\", 10, 5)\n",
        "print(\"Total Price:\", p1.total_price())\n"
      ],
      "metadata": {
        "colab": {
          "base_uri": "https://localhost:8080/"
        },
        "id": "-VfPQyLIMNvb",
        "outputId": "658e5b25-b7d7-443f-9593-32eedb9ded8f"
      },
      "execution_count": 19,
      "outputs": [
        {
          "output_type": "stream",
          "name": "stdout",
          "text": [
            "Total Price: 50\n"
          ]
        }
      ]
    },
    {
      "cell_type": "code",
      "source": [
        "# 16. Create a class Animal with an abstract method sound(). Create two derived classes Cow and Sheep that implement the sound() method.\n",
        "#Ans.:-\n",
        "from abc import ABC, abstractmethod\n",
        "\n",
        "class Animal(ABC):\n",
        "    @abstractmethod\n",
        "    def sound(self):\n",
        "        pass\n",
        "\n",
        "class Cow(Animal):\n",
        "    def sound(self):\n",
        "        print(\"Cow says Moo\")\n",
        "\n",
        "class Sheep(Animal):\n",
        "    def sound(self):\n",
        "        print(\"Sheep says Baa\")\n",
        "\n",
        "c = Cow()\n",
        "s = Sheep()\n",
        "\n",
        "c.sound()\n",
        "s.sound()\n"
      ],
      "metadata": {
        "colab": {
          "base_uri": "https://localhost:8080/"
        },
        "id": "Q158SInZMicj",
        "outputId": "744818f2-c78b-4085-83c4-3d10d14b08aa"
      },
      "execution_count": 20,
      "outputs": [
        {
          "output_type": "stream",
          "name": "stdout",
          "text": [
            "Cow says Moo\n",
            "Sheep says Baa\n"
          ]
        }
      ]
    },
    {
      "cell_type": "code",
      "source": [
        "#17. Create a class Book with attributes title, author, and year_published. Add a method get_book_info() that returns a formatted string with the book's details.\n",
        "#Ans.:-\n",
        "class Book:\n",
        "    def __init__(self, title, author, year_published):\n",
        "        self.title = title\n",
        "        self.author = author\n",
        "        self.year_published = year_published\n",
        "\n",
        "    def get_book_info(self):\n",
        "        return f\"'{self.title}' by {self.author} ({self.year_published})\"\n",
        "\n",
        "b = Book(\"Python Basics\", \"Ravi Rai\", 2024)\n",
        "print(b.get_book_info())\n"
      ],
      "metadata": {
        "colab": {
          "base_uri": "https://localhost:8080/"
        },
        "id": "70mOX3vGMpJr",
        "outputId": "76ae5d05-eb65-4592-caeb-1b11d8676fde"
      },
      "execution_count": 21,
      "outputs": [
        {
          "output_type": "stream",
          "name": "stdout",
          "text": [
            "'Python Basics' by Ravi Rai (2024)\n"
          ]
        }
      ]
    },
    {
      "cell_type": "code",
      "source": [
        "# 18. Create a class House with attributes address and price. Create a derived class Mansion that adds an attribute number_of_rooms.\n",
        "#Ans.:-\n",
        "\n",
        "class House:\n",
        "    def __init__(self, address, price):\n",
        "        self.address = address\n",
        "        self.price = price\n",
        "\n",
        "class Mansion(House):\n",
        "    def __init__(self, address, price, number_of_rooms):\n",
        "        super().__init__(address, price)\n",
        "        self.number_of_rooms = number_of_rooms\n",
        "\n",
        "m = Mansion(\"123 Garden Road\", 5000000, 10)\n",
        "print(\"Address:\", m.address)\n",
        "print(\"Price:\", m.price)\n",
        "print(\"Rooms:\", m.number_of_rooms)\n"
      ],
      "metadata": {
        "colab": {
          "base_uri": "https://localhost:8080/"
        },
        "id": "3AdSKBO7MuYa",
        "outputId": "02eba389-1d28-4cfb-fd41-da587f1412ab"
      },
      "execution_count": 23,
      "outputs": [
        {
          "output_type": "stream",
          "name": "stdout",
          "text": [
            "Address: 123 Garden Road\n",
            "Price: 5000000\n",
            "Rooms: 10\n"
          ]
        }
      ]
    },
    {
      "cell_type": "code",
      "source": [],
      "metadata": {
        "id": "Pt6Ya0ySM1hz"
      },
      "execution_count": null,
      "outputs": []
    }
  ]
}